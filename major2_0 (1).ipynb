{
  "nbformat": 4,
  "nbformat_minor": 0,
  "metadata": {
    "colab": {
      "provenance": []
    },
    "kernelspec": {
      "name": "python3",
      "display_name": "Python 3"
    },
    "language_info": {
      "name": "python"
    }
  },
  "cells": [
    {
      "cell_type": "markdown",
      "source": [
        "# **Semiconductor Manufacturing Sensor Data Analysis**"
      ],
      "metadata": {
        "id": "P06i-RzKfGsH"
      }
    },
    {
      "cell_type": "markdown",
      "source": [
        "# **Project Background**\n",
        "\n",
        "In semiconductor manufacturing, numerous sensors continuously monitor the production line to ensure quality and efficiency. However, not all sensor readings provide valuable insights. Our task is to analyze this sensor data to predict whether a product will pass or fail quality testing."
      ],
      "metadata": {
        "id": "gimPISjQfHYW"
      }
    },
    {
      "cell_type": "markdown",
      "source": [
        "# **About the Dataset**\n",
        "**File: signal-data (1).csv**\n",
        "\n",
        "**Size: 1567 samples (rows), each representing a single product**\n",
        "\n",
        "**Features: 591 columns, each corresponding to a unique sensor reading**\n",
        "\n",
        "**Target: Indicates product quality outcome**\n",
        "\n",
        "*  **-1 → Product Passed**\n",
        "\n",
        "*  **1 → Product Failed**\n",
        "\n",
        "**Each row captures the sensor data for one product as it moves through the manufacturing process. Our goal is to use this information to accurately predict the product’s outcome.**"
      ],
      "metadata": {
        "id": "1ZpLmluZf8Y7"
      }
    },
    {
      "cell_type": "markdown",
      "source": [
        " # **Project Objective**\n",
        "\n",
        "**We aim to develop a machine learning model that can reliably forecast if a semiconductor unit will pass or fail based on its sensor data. To achieve this, we will:**\n",
        "\n",
        "* **Explore and clean the dataset thoroughly**\n",
        "* **Identify the most important sensor readings through feature selection**\n",
        "* **Experiment with various machine learning algorithms**\n",
        "* **Select the best-performing model for deployment**"
      ],
      "metadata": {
        "id": "6v_ihWn8kNcT"
      }
    },
    {
      "cell_type": "markdown",
      "source": [
        "# **Importing Libraries**"
      ],
      "metadata": {
        "id": "rOPs378zk7Ax"
      }
    },
    {
      "cell_type": "code",
      "execution_count": null,
      "metadata": {
        "id": "crQ3ga2Mfqjm"
      },
      "outputs": [],
      "source": [
        "import pandas as pd\n",
        "import numpy as np\n",
        "import seaborn as sns\n",
        "import matplotlib.pyplot as plt\n",
        "from sklearn.model_selection import train_test_split, GridSearchCV, cross_val_score\n",
        "from sklearn.preprocessing import StandardScaler\n",
        "from sklearn.ensemble import RandomForestClassifier\n",
        "from sklearn.svm import SVC\n",
        "from sklearn.naive_bayes import GaussianNB\n",
        "from sklearn.metrics import classification_report, confusion_matrix\n",
        "from imblearn.over_sampling import SMOTE\n",
        "from sklearn.decomposition import PCA\n",
        "import joblib\n",
        "import scipy as stats"
      ]
    },
    {
      "cell_type": "code",
      "source": [
        "from google.colab import drive\n",
        "drive.mount('/content/drive')"
      ],
      "metadata": {
        "colab": {
          "base_uri": "https://localhost:8080/"
        },
        "id": "bao_XB29fxE0",
        "outputId": "54726077-7669-41d3-fd9b-6dba83eb9a56"
      },
      "execution_count": null,
      "outputs": [
        {
          "output_type": "stream",
          "name": "stdout",
          "text": [
            "Mounted at /content/drive\n"
          ]
        }
      ]
    },
    {
      "cell_type": "code",
      "source": [
        "from google.colab import files\n",
        "uploaded = files.upload()"
      ],
      "metadata": {
        "colab": {
          "base_uri": "https://localhost:8080/",
          "height": 74
        },
        "id": "Kyx6jogUf0oB",
        "outputId": "5fd13a99-ce8c-465f-b797-e6c03c7afec1"
      },
      "execution_count": null,
      "outputs": [
        {
          "output_type": "display_data",
          "data": {
            "text/plain": [
              "<IPython.core.display.HTML object>"
            ],
            "text/html": [
              "\n",
              "     <input type=\"file\" id=\"files-6df854b5-204a-4507-99ca-f7ce035c9782\" name=\"files[]\" multiple disabled\n",
              "        style=\"border:none\" />\n",
              "     <output id=\"result-6df854b5-204a-4507-99ca-f7ce035c9782\">\n",
              "      Upload widget is only available when the cell has been executed in the\n",
              "      current browser session. Please rerun this cell to enable.\n",
              "      </output>\n",
              "      <script>// Copyright 2017 Google LLC\n",
              "//\n",
              "// Licensed under the Apache License, Version 2.0 (the \"License\");\n",
              "// you may not use this file except in compliance with the License.\n",
              "// You may obtain a copy of the License at\n",
              "//\n",
              "//      http://www.apache.org/licenses/LICENSE-2.0\n",
              "//\n",
              "// Unless required by applicable law or agreed to in writing, software\n",
              "// distributed under the License is distributed on an \"AS IS\" BASIS,\n",
              "// WITHOUT WARRANTIES OR CONDITIONS OF ANY KIND, either express or implied.\n",
              "// See the License for the specific language governing permissions and\n",
              "// limitations under the License.\n",
              "\n",
              "/**\n",
              " * @fileoverview Helpers for google.colab Python module.\n",
              " */\n",
              "(function(scope) {\n",
              "function span(text, styleAttributes = {}) {\n",
              "  const element = document.createElement('span');\n",
              "  element.textContent = text;\n",
              "  for (const key of Object.keys(styleAttributes)) {\n",
              "    element.style[key] = styleAttributes[key];\n",
              "  }\n",
              "  return element;\n",
              "}\n",
              "\n",
              "// Max number of bytes which will be uploaded at a time.\n",
              "const MAX_PAYLOAD_SIZE = 100 * 1024;\n",
              "\n",
              "function _uploadFiles(inputId, outputId) {\n",
              "  const steps = uploadFilesStep(inputId, outputId);\n",
              "  const outputElement = document.getElementById(outputId);\n",
              "  // Cache steps on the outputElement to make it available for the next call\n",
              "  // to uploadFilesContinue from Python.\n",
              "  outputElement.steps = steps;\n",
              "\n",
              "  return _uploadFilesContinue(outputId);\n",
              "}\n",
              "\n",
              "// This is roughly an async generator (not supported in the browser yet),\n",
              "// where there are multiple asynchronous steps and the Python side is going\n",
              "// to poll for completion of each step.\n",
              "// This uses a Promise to block the python side on completion of each step,\n",
              "// then passes the result of the previous step as the input to the next step.\n",
              "function _uploadFilesContinue(outputId) {\n",
              "  const outputElement = document.getElementById(outputId);\n",
              "  const steps = outputElement.steps;\n",
              "\n",
              "  const next = steps.next(outputElement.lastPromiseValue);\n",
              "  return Promise.resolve(next.value.promise).then((value) => {\n",
              "    // Cache the last promise value to make it available to the next\n",
              "    // step of the generator.\n",
              "    outputElement.lastPromiseValue = value;\n",
              "    return next.value.response;\n",
              "  });\n",
              "}\n",
              "\n",
              "/**\n",
              " * Generator function which is called between each async step of the upload\n",
              " * process.\n",
              " * @param {string} inputId Element ID of the input file picker element.\n",
              " * @param {string} outputId Element ID of the output display.\n",
              " * @return {!Iterable<!Object>} Iterable of next steps.\n",
              " */\n",
              "function* uploadFilesStep(inputId, outputId) {\n",
              "  const inputElement = document.getElementById(inputId);\n",
              "  inputElement.disabled = false;\n",
              "\n",
              "  const outputElement = document.getElementById(outputId);\n",
              "  outputElement.innerHTML = '';\n",
              "\n",
              "  const pickedPromise = new Promise((resolve) => {\n",
              "    inputElement.addEventListener('change', (e) => {\n",
              "      resolve(e.target.files);\n",
              "    });\n",
              "  });\n",
              "\n",
              "  const cancel = document.createElement('button');\n",
              "  inputElement.parentElement.appendChild(cancel);\n",
              "  cancel.textContent = 'Cancel upload';\n",
              "  const cancelPromise = new Promise((resolve) => {\n",
              "    cancel.onclick = () => {\n",
              "      resolve(null);\n",
              "    };\n",
              "  });\n",
              "\n",
              "  // Wait for the user to pick the files.\n",
              "  const files = yield {\n",
              "    promise: Promise.race([pickedPromise, cancelPromise]),\n",
              "    response: {\n",
              "      action: 'starting',\n",
              "    }\n",
              "  };\n",
              "\n",
              "  cancel.remove();\n",
              "\n",
              "  // Disable the input element since further picks are not allowed.\n",
              "  inputElement.disabled = true;\n",
              "\n",
              "  if (!files) {\n",
              "    return {\n",
              "      response: {\n",
              "        action: 'complete',\n",
              "      }\n",
              "    };\n",
              "  }\n",
              "\n",
              "  for (const file of files) {\n",
              "    const li = document.createElement('li');\n",
              "    li.append(span(file.name, {fontWeight: 'bold'}));\n",
              "    li.append(span(\n",
              "        `(${file.type || 'n/a'}) - ${file.size} bytes, ` +\n",
              "        `last modified: ${\n",
              "            file.lastModifiedDate ? file.lastModifiedDate.toLocaleDateString() :\n",
              "                                    'n/a'} - `));\n",
              "    const percent = span('0% done');\n",
              "    li.appendChild(percent);\n",
              "\n",
              "    outputElement.appendChild(li);\n",
              "\n",
              "    const fileDataPromise = new Promise((resolve) => {\n",
              "      const reader = new FileReader();\n",
              "      reader.onload = (e) => {\n",
              "        resolve(e.target.result);\n",
              "      };\n",
              "      reader.readAsArrayBuffer(file);\n",
              "    });\n",
              "    // Wait for the data to be ready.\n",
              "    let fileData = yield {\n",
              "      promise: fileDataPromise,\n",
              "      response: {\n",
              "        action: 'continue',\n",
              "      }\n",
              "    };\n",
              "\n",
              "    // Use a chunked sending to avoid message size limits. See b/62115660.\n",
              "    let position = 0;\n",
              "    do {\n",
              "      const length = Math.min(fileData.byteLength - position, MAX_PAYLOAD_SIZE);\n",
              "      const chunk = new Uint8Array(fileData, position, length);\n",
              "      position += length;\n",
              "\n",
              "      const base64 = btoa(String.fromCharCode.apply(null, chunk));\n",
              "      yield {\n",
              "        response: {\n",
              "          action: 'append',\n",
              "          file: file.name,\n",
              "          data: base64,\n",
              "        },\n",
              "      };\n",
              "\n",
              "      let percentDone = fileData.byteLength === 0 ?\n",
              "          100 :\n",
              "          Math.round((position / fileData.byteLength) * 100);\n",
              "      percent.textContent = `${percentDone}% done`;\n",
              "\n",
              "    } while (position < fileData.byteLength);\n",
              "  }\n",
              "\n",
              "  // All done.\n",
              "  yield {\n",
              "    response: {\n",
              "      action: 'complete',\n",
              "    }\n",
              "  };\n",
              "}\n",
              "\n",
              "scope.google = scope.google || {};\n",
              "scope.google.colab = scope.google.colab || {};\n",
              "scope.google.colab._files = {\n",
              "  _uploadFiles,\n",
              "  _uploadFilesContinue,\n",
              "};\n",
              "})(self);\n",
              "</script> "
            ]
          },
          "metadata": {}
        },
        {
          "output_type": "stream",
          "name": "stdout",
          "text": [
            "Saving signal-data (1).csv to signal-data (1).csv\n"
          ]
        }
      ]
    },
    {
      "cell_type": "code",
      "source": [
        "df = pd.read_csv('/content/signal-data (1).csv')\n",
        "print(df.head())"
      ],
      "metadata": {
        "colab": {
          "base_uri": "https://localhost:8080/"
        },
        "id": "tmrrT2LDgAIO",
        "outputId": "5f07c14e-14c6-4d94-9b22-f761967b646a"
      },
      "execution_count": null,
      "outputs": [
        {
          "output_type": "stream",
          "name": "stdout",
          "text": [
            "                  Time        0        1          2          3       4      5  \\\n",
            "0  2008-07-19 11:55:00  3030.93  2564.00  2187.7333  1411.1265  1.3602  100.0   \n",
            "1  2008-07-19 12:32:00  3095.78  2465.14  2230.4222  1463.6606  0.8294  100.0   \n",
            "2  2008-07-19 13:17:00  2932.61  2559.94  2186.4111  1698.0172  1.5102  100.0   \n",
            "3  2008-07-19 14:43:00  2988.72  2479.90  2199.0333   909.7926  1.3204  100.0   \n",
            "4  2008-07-19 15:22:00  3032.24  2502.87  2233.3667  1326.5200  1.5334  100.0   \n",
            "\n",
            "          6       7       8  ...       581     582     583     584      585  \\\n",
            "0   97.6133  0.1242  1.5005  ...       NaN  0.5005  0.0118  0.0035   2.3630   \n",
            "1  102.3433  0.1247  1.4966  ...  208.2045  0.5019  0.0223  0.0055   4.4447   \n",
            "2   95.4878  0.1241  1.4436  ...   82.8602  0.4958  0.0157  0.0039   3.1745   \n",
            "3  104.2367  0.1217  1.4882  ...   73.8432  0.4990  0.0103  0.0025   2.0544   \n",
            "4  100.3967  0.1235  1.5031  ...       NaN  0.4800  0.4766  0.1045  99.3032   \n",
            "\n",
            "      586     587     588       589  Pass/Fail  \n",
            "0     NaN     NaN     NaN       NaN         -1  \n",
            "1  0.0096  0.0201  0.0060  208.2045         -1  \n",
            "2  0.0584  0.0484  0.0148   82.8602          1  \n",
            "3  0.0202  0.0149  0.0044   73.8432         -1  \n",
            "4  0.0202  0.0149  0.0044   73.8432         -1  \n",
            "\n",
            "[5 rows x 592 columns]\n"
          ]
        }
      ]
    },
    {
      "cell_type": "markdown",
      "source": [
        "# EDA"
      ],
      "metadata": {
        "id": "7YXpifEngXLo"
      }
    },
    {
      "cell_type": "code",
      "source": [
        "print(\"shape of dataset:\", df.shape)"
      ],
      "metadata": {
        "colab": {
          "base_uri": "https://localhost:8080/"
        },
        "id": "p9eb3WiNgQYF",
        "outputId": "7e727d88-dcde-4189-b477-3a475c267261"
      },
      "execution_count": null,
      "outputs": [
        {
          "output_type": "stream",
          "name": "stdout",
          "text": [
            "shape of dataset: (1567, 592)\n"
          ]
        }
      ]
    },
    {
      "cell_type": "code",
      "source": [
        "df.isna().sum().sum()"
      ],
      "metadata": {
        "colab": {
          "base_uri": "https://localhost:8080/"
        },
        "id": "G3TJ8DUiva_C",
        "outputId": "d8ed6848-6b26-4f9c-88db-9fec7cc8e7e6"
      },
      "execution_count": null,
      "outputs": [
        {
          "output_type": "execute_result",
          "data": {
            "text/plain": [
              "np.int64(41951)"
            ]
          },
          "metadata": {},
          "execution_count": 38
        }
      ]
    },
    {
      "cell_type": "code",
      "source": [
        "print(\"Data types of each column:\")\n",
        "print(df.dtypes.value_counts())"
      ],
      "metadata": {
        "colab": {
          "base_uri": "https://localhost:8080/"
        },
        "id": "U4MU3K4mggRc",
        "outputId": "aafc3cda-1929-4497-cf4e-590ae9c2f86b"
      },
      "execution_count": null,
      "outputs": [
        {
          "output_type": "stream",
          "name": "stdout",
          "text": [
            "Data types of each column:\n",
            "float64    590\n",
            "object       1\n",
            "int64        1\n",
            "Name: count, dtype: int64\n"
          ]
        }
      ]
    },
    {
      "cell_type": "code",
      "source": [
        "print(\"Number of unique values in each column: \")\n",
        "print(df.nunique().value_counts())"
      ],
      "metadata": {
        "colab": {
          "base_uri": "https://localhost:8080/"
        },
        "id": "oBfmGBjvglnv",
        "outputId": "d68bb0e5-f14f-455b-88c7-97b730721b2b"
      },
      "execution_count": null,
      "outputs": [
        {
          "output_type": "stream",
          "name": "stdout",
          "text": [
            "Number of unique values in each column: \n",
            "1       116\n",
            "2         7\n",
            "518       7\n",
            "1551      6\n",
            "1562      5\n",
            "       ... \n",
            "954       1\n",
            "128       1\n",
            "722       1\n",
            "65        1\n",
            "652       1\n",
            "Name: count, Length: 343, dtype: int64\n"
          ]
        }
      ]
    },
    {
      "cell_type": "code",
      "source": [
        "print(\"Total no. of unique values: \")\n",
        "print(df.nunique().sum())"
      ],
      "metadata": {
        "colab": {
          "base_uri": "https://localhost:8080/"
        },
        "id": "O0ps6bdVhJJ0",
        "outputId": "4c3219d3-df18-48fc-cd9b-64fb9bbb2e6e"
      },
      "execution_count": null,
      "outputs": [
        {
          "output_type": "stream",
          "name": "stdout",
          "text": [
            "Total no. of unique values: \n",
            "374145\n"
          ]
        }
      ]
    },
    {
      "cell_type": "code",
      "source": [
        "print(df.info())"
      ],
      "metadata": {
        "colab": {
          "base_uri": "https://localhost:8080/"
        },
        "id": "6sivFLSij3Qd",
        "outputId": "ac65d293-3353-4a40-f83e-6ff8e009e88c"
      },
      "execution_count": null,
      "outputs": [
        {
          "output_type": "stream",
          "name": "stdout",
          "text": [
            "<class 'pandas.core.frame.DataFrame'>\n",
            "RangeIndex: 1567 entries, 0 to 1566\n",
            "Columns: 592 entries, Time to Pass/Fail\n",
            "dtypes: float64(590), int64(1), object(1)\n",
            "memory usage: 7.1+ MB\n",
            "None\n"
          ]
        }
      ]
    },
    {
      "cell_type": "code",
      "source": [
        "constant = df.columns[df.nunique()<=1]\n",
        "print(f\"\\nDropped {len(constant)} columns with only one unique value\")\n",
        "df.drop(columns=constant,inplace=True)"
      ],
      "metadata": {
        "colab": {
          "base_uri": "https://localhost:8080/"
        },
        "id": "tACx65QkkDr1",
        "outputId": "e8169256-9f77-4391-d46d-4bdf3ffa9add"
      },
      "execution_count": null,
      "outputs": [
        {
          "output_type": "stream",
          "name": "stdout",
          "text": [
            "\n",
            "Dropped 116 columns with only one unique value\n"
          ]
        }
      ]
    },
    {
      "cell_type": "code",
      "source": [
        "df.shape"
      ],
      "metadata": {
        "colab": {
          "base_uri": "https://localhost:8080/"
        },
        "id": "dP3IAAPRtgOn",
        "outputId": "2edfa56b-9471-40ff-c06c-20f2d1b7815b"
      },
      "execution_count": null,
      "outputs": [
        {
          "output_type": "execute_result",
          "data": {
            "text/plain": [
              "(1567, 476)"
            ]
          },
          "metadata": {},
          "execution_count": 44
        }
      ]
    },
    {
      "cell_type": "code",
      "source": [
        "df"
      ],
      "metadata": {
        "colab": {
          "base_uri": "https://localhost:8080/",
          "height": 790
        },
        "id": "PfhPi1CEtkbW",
        "outputId": "bc9ccfa1-6291-4402-e83a-f91f50b31b47"
      },
      "execution_count": null,
      "outputs": [
        {
          "output_type": "execute_result",
          "data": {
            "text/plain": [
              "                     Time        0        1          2          3       4  \\\n",
              "0     2008-07-19 11:55:00  3030.93  2564.00  2187.7333  1411.1265  1.3602   \n",
              "1     2008-07-19 12:32:00  3095.78  2465.14  2230.4222  1463.6606  0.8294   \n",
              "2     2008-07-19 13:17:00  2932.61  2559.94  2186.4111  1698.0172  1.5102   \n",
              "3     2008-07-19 14:43:00  2988.72  2479.90  2199.0333   909.7926  1.3204   \n",
              "4     2008-07-19 15:22:00  3032.24  2502.87  2233.3667  1326.5200  1.5334   \n",
              "...                   ...      ...      ...        ...        ...     ...   \n",
              "1562  2008-10-16 15:13:00  2899.41  2464.36  2179.7333  3085.3781  1.4843   \n",
              "1563  2008-10-16 20:49:00  3052.31  2522.55  2198.5667  1124.6595  0.8763   \n",
              "1564  2008-10-17 05:26:00  2978.81  2379.78  2206.3000  1110.4967  0.8236   \n",
              "1565  2008-10-17 06:01:00  2894.92  2532.01  2177.0333  1183.7287  1.5726   \n",
              "1566  2008-10-17 06:07:00  2944.92  2450.76  2195.4444  2914.1792  1.5978   \n",
              "\n",
              "             6       7       8       9  ...       581     582     583     584  \\\n",
              "0      97.6133  0.1242  1.5005  0.0162  ...       NaN  0.5005  0.0118  0.0035   \n",
              "1     102.3433  0.1247  1.4966 -0.0005  ...  208.2045  0.5019  0.0223  0.0055   \n",
              "2      95.4878  0.1241  1.4436  0.0041  ...   82.8602  0.4958  0.0157  0.0039   \n",
              "3     104.2367  0.1217  1.4882 -0.0124  ...   73.8432  0.4990  0.0103  0.0025   \n",
              "4     100.3967  0.1235  1.5031 -0.0031  ...       NaN  0.4800  0.4766  0.1045   \n",
              "...        ...     ...     ...     ...  ...       ...     ...     ...     ...   \n",
              "1562   82.2467  0.1248  1.3424 -0.0045  ...  203.1720  0.4988  0.0143  0.0039   \n",
              "1563   98.4689  0.1205  1.4333 -0.0061  ...       NaN  0.4975  0.0131  0.0036   \n",
              "1564   99.4122  0.1208     NaN     NaN  ...   43.5231  0.4987  0.0153  0.0041   \n",
              "1565   98.7978  0.1213  1.4622 -0.0072  ...   93.4941  0.5004  0.0178  0.0038   \n",
              "1566   85.1011  0.1235     NaN     NaN  ...  137.7844  0.4987  0.0181  0.0040   \n",
              "\n",
              "          585     586     587     588       589  Pass/Fail  \n",
              "0      2.3630     NaN     NaN     NaN       NaN         -1  \n",
              "1      4.4447  0.0096  0.0201  0.0060  208.2045         -1  \n",
              "2      3.1745  0.0584  0.0484  0.0148   82.8602          1  \n",
              "3      2.0544  0.0202  0.0149  0.0044   73.8432         -1  \n",
              "4     99.3032  0.0202  0.0149  0.0044   73.8432         -1  \n",
              "...       ...     ...     ...     ...       ...        ...  \n",
              "1562   2.8669  0.0068  0.0138  0.0047  203.1720         -1  \n",
              "1563   2.6238  0.0068  0.0138  0.0047  203.1720         -1  \n",
              "1564   3.0590  0.0197  0.0086  0.0025   43.5231         -1  \n",
              "1565   3.5662  0.0262  0.0245  0.0075   93.4941         -1  \n",
              "1566   3.6275  0.0117  0.0162  0.0045  137.7844         -1  \n",
              "\n",
              "[1567 rows x 476 columns]"
            ],
            "text/html": [
              "\n",
              "  <div id=\"df-897377e2-9767-4fb5-b21f-a9631f24d3ca\" class=\"colab-df-container\">\n",
              "    <div>\n",
              "<style scoped>\n",
              "    .dataframe tbody tr th:only-of-type {\n",
              "        vertical-align: middle;\n",
              "    }\n",
              "\n",
              "    .dataframe tbody tr th {\n",
              "        vertical-align: top;\n",
              "    }\n",
              "\n",
              "    .dataframe thead th {\n",
              "        text-align: right;\n",
              "    }\n",
              "</style>\n",
              "<table border=\"1\" class=\"dataframe\">\n",
              "  <thead>\n",
              "    <tr style=\"text-align: right;\">\n",
              "      <th></th>\n",
              "      <th>Time</th>\n",
              "      <th>0</th>\n",
              "      <th>1</th>\n",
              "      <th>2</th>\n",
              "      <th>3</th>\n",
              "      <th>4</th>\n",
              "      <th>6</th>\n",
              "      <th>7</th>\n",
              "      <th>8</th>\n",
              "      <th>9</th>\n",
              "      <th>...</th>\n",
              "      <th>581</th>\n",
              "      <th>582</th>\n",
              "      <th>583</th>\n",
              "      <th>584</th>\n",
              "      <th>585</th>\n",
              "      <th>586</th>\n",
              "      <th>587</th>\n",
              "      <th>588</th>\n",
              "      <th>589</th>\n",
              "      <th>Pass/Fail</th>\n",
              "    </tr>\n",
              "  </thead>\n",
              "  <tbody>\n",
              "    <tr>\n",
              "      <th>0</th>\n",
              "      <td>2008-07-19 11:55:00</td>\n",
              "      <td>3030.93</td>\n",
              "      <td>2564.00</td>\n",
              "      <td>2187.7333</td>\n",
              "      <td>1411.1265</td>\n",
              "      <td>1.3602</td>\n",
              "      <td>97.6133</td>\n",
              "      <td>0.1242</td>\n",
              "      <td>1.5005</td>\n",
              "      <td>0.0162</td>\n",
              "      <td>...</td>\n",
              "      <td>NaN</td>\n",
              "      <td>0.5005</td>\n",
              "      <td>0.0118</td>\n",
              "      <td>0.0035</td>\n",
              "      <td>2.3630</td>\n",
              "      <td>NaN</td>\n",
              "      <td>NaN</td>\n",
              "      <td>NaN</td>\n",
              "      <td>NaN</td>\n",
              "      <td>-1</td>\n",
              "    </tr>\n",
              "    <tr>\n",
              "      <th>1</th>\n",
              "      <td>2008-07-19 12:32:00</td>\n",
              "      <td>3095.78</td>\n",
              "      <td>2465.14</td>\n",
              "      <td>2230.4222</td>\n",
              "      <td>1463.6606</td>\n",
              "      <td>0.8294</td>\n",
              "      <td>102.3433</td>\n",
              "      <td>0.1247</td>\n",
              "      <td>1.4966</td>\n",
              "      <td>-0.0005</td>\n",
              "      <td>...</td>\n",
              "      <td>208.2045</td>\n",
              "      <td>0.5019</td>\n",
              "      <td>0.0223</td>\n",
              "      <td>0.0055</td>\n",
              "      <td>4.4447</td>\n",
              "      <td>0.0096</td>\n",
              "      <td>0.0201</td>\n",
              "      <td>0.0060</td>\n",
              "      <td>208.2045</td>\n",
              "      <td>-1</td>\n",
              "    </tr>\n",
              "    <tr>\n",
              "      <th>2</th>\n",
              "      <td>2008-07-19 13:17:00</td>\n",
              "      <td>2932.61</td>\n",
              "      <td>2559.94</td>\n",
              "      <td>2186.4111</td>\n",
              "      <td>1698.0172</td>\n",
              "      <td>1.5102</td>\n",
              "      <td>95.4878</td>\n",
              "      <td>0.1241</td>\n",
              "      <td>1.4436</td>\n",
              "      <td>0.0041</td>\n",
              "      <td>...</td>\n",
              "      <td>82.8602</td>\n",
              "      <td>0.4958</td>\n",
              "      <td>0.0157</td>\n",
              "      <td>0.0039</td>\n",
              "      <td>3.1745</td>\n",
              "      <td>0.0584</td>\n",
              "      <td>0.0484</td>\n",
              "      <td>0.0148</td>\n",
              "      <td>82.8602</td>\n",
              "      <td>1</td>\n",
              "    </tr>\n",
              "    <tr>\n",
              "      <th>3</th>\n",
              "      <td>2008-07-19 14:43:00</td>\n",
              "      <td>2988.72</td>\n",
              "      <td>2479.90</td>\n",
              "      <td>2199.0333</td>\n",
              "      <td>909.7926</td>\n",
              "      <td>1.3204</td>\n",
              "      <td>104.2367</td>\n",
              "      <td>0.1217</td>\n",
              "      <td>1.4882</td>\n",
              "      <td>-0.0124</td>\n",
              "      <td>...</td>\n",
              "      <td>73.8432</td>\n",
              "      <td>0.4990</td>\n",
              "      <td>0.0103</td>\n",
              "      <td>0.0025</td>\n",
              "      <td>2.0544</td>\n",
              "      <td>0.0202</td>\n",
              "      <td>0.0149</td>\n",
              "      <td>0.0044</td>\n",
              "      <td>73.8432</td>\n",
              "      <td>-1</td>\n",
              "    </tr>\n",
              "    <tr>\n",
              "      <th>4</th>\n",
              "      <td>2008-07-19 15:22:00</td>\n",
              "      <td>3032.24</td>\n",
              "      <td>2502.87</td>\n",
              "      <td>2233.3667</td>\n",
              "      <td>1326.5200</td>\n",
              "      <td>1.5334</td>\n",
              "      <td>100.3967</td>\n",
              "      <td>0.1235</td>\n",
              "      <td>1.5031</td>\n",
              "      <td>-0.0031</td>\n",
              "      <td>...</td>\n",
              "      <td>NaN</td>\n",
              "      <td>0.4800</td>\n",
              "      <td>0.4766</td>\n",
              "      <td>0.1045</td>\n",
              "      <td>99.3032</td>\n",
              "      <td>0.0202</td>\n",
              "      <td>0.0149</td>\n",
              "      <td>0.0044</td>\n",
              "      <td>73.8432</td>\n",
              "      <td>-1</td>\n",
              "    </tr>\n",
              "    <tr>\n",
              "      <th>...</th>\n",
              "      <td>...</td>\n",
              "      <td>...</td>\n",
              "      <td>...</td>\n",
              "      <td>...</td>\n",
              "      <td>...</td>\n",
              "      <td>...</td>\n",
              "      <td>...</td>\n",
              "      <td>...</td>\n",
              "      <td>...</td>\n",
              "      <td>...</td>\n",
              "      <td>...</td>\n",
              "      <td>...</td>\n",
              "      <td>...</td>\n",
              "      <td>...</td>\n",
              "      <td>...</td>\n",
              "      <td>...</td>\n",
              "      <td>...</td>\n",
              "      <td>...</td>\n",
              "      <td>...</td>\n",
              "      <td>...</td>\n",
              "      <td>...</td>\n",
              "    </tr>\n",
              "    <tr>\n",
              "      <th>1562</th>\n",
              "      <td>2008-10-16 15:13:00</td>\n",
              "      <td>2899.41</td>\n",
              "      <td>2464.36</td>\n",
              "      <td>2179.7333</td>\n",
              "      <td>3085.3781</td>\n",
              "      <td>1.4843</td>\n",
              "      <td>82.2467</td>\n",
              "      <td>0.1248</td>\n",
              "      <td>1.3424</td>\n",
              "      <td>-0.0045</td>\n",
              "      <td>...</td>\n",
              "      <td>203.1720</td>\n",
              "      <td>0.4988</td>\n",
              "      <td>0.0143</td>\n",
              "      <td>0.0039</td>\n",
              "      <td>2.8669</td>\n",
              "      <td>0.0068</td>\n",
              "      <td>0.0138</td>\n",
              "      <td>0.0047</td>\n",
              "      <td>203.1720</td>\n",
              "      <td>-1</td>\n",
              "    </tr>\n",
              "    <tr>\n",
              "      <th>1563</th>\n",
              "      <td>2008-10-16 20:49:00</td>\n",
              "      <td>3052.31</td>\n",
              "      <td>2522.55</td>\n",
              "      <td>2198.5667</td>\n",
              "      <td>1124.6595</td>\n",
              "      <td>0.8763</td>\n",
              "      <td>98.4689</td>\n",
              "      <td>0.1205</td>\n",
              "      <td>1.4333</td>\n",
              "      <td>-0.0061</td>\n",
              "      <td>...</td>\n",
              "      <td>NaN</td>\n",
              "      <td>0.4975</td>\n",
              "      <td>0.0131</td>\n",
              "      <td>0.0036</td>\n",
              "      <td>2.6238</td>\n",
              "      <td>0.0068</td>\n",
              "      <td>0.0138</td>\n",
              "      <td>0.0047</td>\n",
              "      <td>203.1720</td>\n",
              "      <td>-1</td>\n",
              "    </tr>\n",
              "    <tr>\n",
              "      <th>1564</th>\n",
              "      <td>2008-10-17 05:26:00</td>\n",
              "      <td>2978.81</td>\n",
              "      <td>2379.78</td>\n",
              "      <td>2206.3000</td>\n",
              "      <td>1110.4967</td>\n",
              "      <td>0.8236</td>\n",
              "      <td>99.4122</td>\n",
              "      <td>0.1208</td>\n",
              "      <td>NaN</td>\n",
              "      <td>NaN</td>\n",
              "      <td>...</td>\n",
              "      <td>43.5231</td>\n",
              "      <td>0.4987</td>\n",
              "      <td>0.0153</td>\n",
              "      <td>0.0041</td>\n",
              "      <td>3.0590</td>\n",
              "      <td>0.0197</td>\n",
              "      <td>0.0086</td>\n",
              "      <td>0.0025</td>\n",
              "      <td>43.5231</td>\n",
              "      <td>-1</td>\n",
              "    </tr>\n",
              "    <tr>\n",
              "      <th>1565</th>\n",
              "      <td>2008-10-17 06:01:00</td>\n",
              "      <td>2894.92</td>\n",
              "      <td>2532.01</td>\n",
              "      <td>2177.0333</td>\n",
              "      <td>1183.7287</td>\n",
              "      <td>1.5726</td>\n",
              "      <td>98.7978</td>\n",
              "      <td>0.1213</td>\n",
              "      <td>1.4622</td>\n",
              "      <td>-0.0072</td>\n",
              "      <td>...</td>\n",
              "      <td>93.4941</td>\n",
              "      <td>0.5004</td>\n",
              "      <td>0.0178</td>\n",
              "      <td>0.0038</td>\n",
              "      <td>3.5662</td>\n",
              "      <td>0.0262</td>\n",
              "      <td>0.0245</td>\n",
              "      <td>0.0075</td>\n",
              "      <td>93.4941</td>\n",
              "      <td>-1</td>\n",
              "    </tr>\n",
              "    <tr>\n",
              "      <th>1566</th>\n",
              "      <td>2008-10-17 06:07:00</td>\n",
              "      <td>2944.92</td>\n",
              "      <td>2450.76</td>\n",
              "      <td>2195.4444</td>\n",
              "      <td>2914.1792</td>\n",
              "      <td>1.5978</td>\n",
              "      <td>85.1011</td>\n",
              "      <td>0.1235</td>\n",
              "      <td>NaN</td>\n",
              "      <td>NaN</td>\n",
              "      <td>...</td>\n",
              "      <td>137.7844</td>\n",
              "      <td>0.4987</td>\n",
              "      <td>0.0181</td>\n",
              "      <td>0.0040</td>\n",
              "      <td>3.6275</td>\n",
              "      <td>0.0117</td>\n",
              "      <td>0.0162</td>\n",
              "      <td>0.0045</td>\n",
              "      <td>137.7844</td>\n",
              "      <td>-1</td>\n",
              "    </tr>\n",
              "  </tbody>\n",
              "</table>\n",
              "<p>1567 rows × 476 columns</p>\n",
              "</div>\n",
              "    <div class=\"colab-df-buttons\">\n",
              "\n",
              "  <div class=\"colab-df-container\">\n",
              "    <button class=\"colab-df-convert\" onclick=\"convertToInteractive('df-897377e2-9767-4fb5-b21f-a9631f24d3ca')\"\n",
              "            title=\"Convert this dataframe to an interactive table.\"\n",
              "            style=\"display:none;\">\n",
              "\n",
              "  <svg xmlns=\"http://www.w3.org/2000/svg\" height=\"24px\" viewBox=\"0 -960 960 960\">\n",
              "    <path d=\"M120-120v-720h720v720H120Zm60-500h600v-160H180v160Zm220 220h160v-160H400v160Zm0 220h160v-160H400v160ZM180-400h160v-160H180v160Zm440 0h160v-160H620v160ZM180-180h160v-160H180v160Zm440 0h160v-160H620v160Z\"/>\n",
              "  </svg>\n",
              "    </button>\n",
              "\n",
              "  <style>\n",
              "    .colab-df-container {\n",
              "      display:flex;\n",
              "      gap: 12px;\n",
              "    }\n",
              "\n",
              "    .colab-df-convert {\n",
              "      background-color: #E8F0FE;\n",
              "      border: none;\n",
              "      border-radius: 50%;\n",
              "      cursor: pointer;\n",
              "      display: none;\n",
              "      fill: #1967D2;\n",
              "      height: 32px;\n",
              "      padding: 0 0 0 0;\n",
              "      width: 32px;\n",
              "    }\n",
              "\n",
              "    .colab-df-convert:hover {\n",
              "      background-color: #E2EBFA;\n",
              "      box-shadow: 0px 1px 2px rgba(60, 64, 67, 0.3), 0px 1px 3px 1px rgba(60, 64, 67, 0.15);\n",
              "      fill: #174EA6;\n",
              "    }\n",
              "\n",
              "    .colab-df-buttons div {\n",
              "      margin-bottom: 4px;\n",
              "    }\n",
              "\n",
              "    [theme=dark] .colab-df-convert {\n",
              "      background-color: #3B4455;\n",
              "      fill: #D2E3FC;\n",
              "    }\n",
              "\n",
              "    [theme=dark] .colab-df-convert:hover {\n",
              "      background-color: #434B5C;\n",
              "      box-shadow: 0px 1px 3px 1px rgba(0, 0, 0, 0.15);\n",
              "      filter: drop-shadow(0px 1px 2px rgba(0, 0, 0, 0.3));\n",
              "      fill: #FFFFFF;\n",
              "    }\n",
              "  </style>\n",
              "\n",
              "    <script>\n",
              "      const buttonEl =\n",
              "        document.querySelector('#df-897377e2-9767-4fb5-b21f-a9631f24d3ca button.colab-df-convert');\n",
              "      buttonEl.style.display =\n",
              "        google.colab.kernel.accessAllowed ? 'block' : 'none';\n",
              "\n",
              "      async function convertToInteractive(key) {\n",
              "        const element = document.querySelector('#df-897377e2-9767-4fb5-b21f-a9631f24d3ca');\n",
              "        const dataTable =\n",
              "          await google.colab.kernel.invokeFunction('convertToInteractive',\n",
              "                                                    [key], {});\n",
              "        if (!dataTable) return;\n",
              "\n",
              "        const docLinkHtml = 'Like what you see? Visit the ' +\n",
              "          '<a target=\"_blank\" href=https://colab.research.google.com/notebooks/data_table.ipynb>data table notebook</a>'\n",
              "          + ' to learn more about interactive tables.';\n",
              "        element.innerHTML = '';\n",
              "        dataTable['output_type'] = 'display_data';\n",
              "        await google.colab.output.renderOutput(dataTable, element);\n",
              "        const docLink = document.createElement('div');\n",
              "        docLink.innerHTML = docLinkHtml;\n",
              "        element.appendChild(docLink);\n",
              "      }\n",
              "    </script>\n",
              "  </div>\n",
              "\n",
              "\n",
              "    <div id=\"df-c241caaf-5c08-4eea-bb87-63c549ee3bfa\">\n",
              "      <button class=\"colab-df-quickchart\" onclick=\"quickchart('df-c241caaf-5c08-4eea-bb87-63c549ee3bfa')\"\n",
              "                title=\"Suggest charts\"\n",
              "                style=\"display:none;\">\n",
              "\n",
              "<svg xmlns=\"http://www.w3.org/2000/svg\" height=\"24px\"viewBox=\"0 0 24 24\"\n",
              "     width=\"24px\">\n",
              "    <g>\n",
              "        <path d=\"M19 3H5c-1.1 0-2 .9-2 2v14c0 1.1.9 2 2 2h14c1.1 0 2-.9 2-2V5c0-1.1-.9-2-2-2zM9 17H7v-7h2v7zm4 0h-2V7h2v10zm4 0h-2v-4h2v4z\"/>\n",
              "    </g>\n",
              "</svg>\n",
              "      </button>\n",
              "\n",
              "<style>\n",
              "  .colab-df-quickchart {\n",
              "      --bg-color: #E8F0FE;\n",
              "      --fill-color: #1967D2;\n",
              "      --hover-bg-color: #E2EBFA;\n",
              "      --hover-fill-color: #174EA6;\n",
              "      --disabled-fill-color: #AAA;\n",
              "      --disabled-bg-color: #DDD;\n",
              "  }\n",
              "\n",
              "  [theme=dark] .colab-df-quickchart {\n",
              "      --bg-color: #3B4455;\n",
              "      --fill-color: #D2E3FC;\n",
              "      --hover-bg-color: #434B5C;\n",
              "      --hover-fill-color: #FFFFFF;\n",
              "      --disabled-bg-color: #3B4455;\n",
              "      --disabled-fill-color: #666;\n",
              "  }\n",
              "\n",
              "  .colab-df-quickchart {\n",
              "    background-color: var(--bg-color);\n",
              "    border: none;\n",
              "    border-radius: 50%;\n",
              "    cursor: pointer;\n",
              "    display: none;\n",
              "    fill: var(--fill-color);\n",
              "    height: 32px;\n",
              "    padding: 0;\n",
              "    width: 32px;\n",
              "  }\n",
              "\n",
              "  .colab-df-quickchart:hover {\n",
              "    background-color: var(--hover-bg-color);\n",
              "    box-shadow: 0 1px 2px rgba(60, 64, 67, 0.3), 0 1px 3px 1px rgba(60, 64, 67, 0.15);\n",
              "    fill: var(--button-hover-fill-color);\n",
              "  }\n",
              "\n",
              "  .colab-df-quickchart-complete:disabled,\n",
              "  .colab-df-quickchart-complete:disabled:hover {\n",
              "    background-color: var(--disabled-bg-color);\n",
              "    fill: var(--disabled-fill-color);\n",
              "    box-shadow: none;\n",
              "  }\n",
              "\n",
              "  .colab-df-spinner {\n",
              "    border: 2px solid var(--fill-color);\n",
              "    border-color: transparent;\n",
              "    border-bottom-color: var(--fill-color);\n",
              "    animation:\n",
              "      spin 1s steps(1) infinite;\n",
              "  }\n",
              "\n",
              "  @keyframes spin {\n",
              "    0% {\n",
              "      border-color: transparent;\n",
              "      border-bottom-color: var(--fill-color);\n",
              "      border-left-color: var(--fill-color);\n",
              "    }\n",
              "    20% {\n",
              "      border-color: transparent;\n",
              "      border-left-color: var(--fill-color);\n",
              "      border-top-color: var(--fill-color);\n",
              "    }\n",
              "    30% {\n",
              "      border-color: transparent;\n",
              "      border-left-color: var(--fill-color);\n",
              "      border-top-color: var(--fill-color);\n",
              "      border-right-color: var(--fill-color);\n",
              "    }\n",
              "    40% {\n",
              "      border-color: transparent;\n",
              "      border-right-color: var(--fill-color);\n",
              "      border-top-color: var(--fill-color);\n",
              "    }\n",
              "    60% {\n",
              "      border-color: transparent;\n",
              "      border-right-color: var(--fill-color);\n",
              "    }\n",
              "    80% {\n",
              "      border-color: transparent;\n",
              "      border-right-color: var(--fill-color);\n",
              "      border-bottom-color: var(--fill-color);\n",
              "    }\n",
              "    90% {\n",
              "      border-color: transparent;\n",
              "      border-bottom-color: var(--fill-color);\n",
              "    }\n",
              "  }\n",
              "</style>\n",
              "\n",
              "      <script>\n",
              "        async function quickchart(key) {\n",
              "          const quickchartButtonEl =\n",
              "            document.querySelector('#' + key + ' button');\n",
              "          quickchartButtonEl.disabled = true;  // To prevent multiple clicks.\n",
              "          quickchartButtonEl.classList.add('colab-df-spinner');\n",
              "          try {\n",
              "            const charts = await google.colab.kernel.invokeFunction(\n",
              "                'suggestCharts', [key], {});\n",
              "          } catch (error) {\n",
              "            console.error('Error during call to suggestCharts:', error);\n",
              "          }\n",
              "          quickchartButtonEl.classList.remove('colab-df-spinner');\n",
              "          quickchartButtonEl.classList.add('colab-df-quickchart-complete');\n",
              "        }\n",
              "        (() => {\n",
              "          let quickchartButtonEl =\n",
              "            document.querySelector('#df-c241caaf-5c08-4eea-bb87-63c549ee3bfa button');\n",
              "          quickchartButtonEl.style.display =\n",
              "            google.colab.kernel.accessAllowed ? 'block' : 'none';\n",
              "        })();\n",
              "      </script>\n",
              "    </div>\n",
              "\n",
              "  <div id=\"id_3972b3b9-ca6c-4811-a52a-2afc55a7f95e\">\n",
              "    <style>\n",
              "      .colab-df-generate {\n",
              "        background-color: #E8F0FE;\n",
              "        border: none;\n",
              "        border-radius: 50%;\n",
              "        cursor: pointer;\n",
              "        display: none;\n",
              "        fill: #1967D2;\n",
              "        height: 32px;\n",
              "        padding: 0 0 0 0;\n",
              "        width: 32px;\n",
              "      }\n",
              "\n",
              "      .colab-df-generate:hover {\n",
              "        background-color: #E2EBFA;\n",
              "        box-shadow: 0px 1px 2px rgba(60, 64, 67, 0.3), 0px 1px 3px 1px rgba(60, 64, 67, 0.15);\n",
              "        fill: #174EA6;\n",
              "      }\n",
              "\n",
              "      [theme=dark] .colab-df-generate {\n",
              "        background-color: #3B4455;\n",
              "        fill: #D2E3FC;\n",
              "      }\n",
              "\n",
              "      [theme=dark] .colab-df-generate:hover {\n",
              "        background-color: #434B5C;\n",
              "        box-shadow: 0px 1px 3px 1px rgba(0, 0, 0, 0.15);\n",
              "        filter: drop-shadow(0px 1px 2px rgba(0, 0, 0, 0.3));\n",
              "        fill: #FFFFFF;\n",
              "      }\n",
              "    </style>\n",
              "    <button class=\"colab-df-generate\" onclick=\"generateWithVariable('df')\"\n",
              "            title=\"Generate code using this dataframe.\"\n",
              "            style=\"display:none;\">\n",
              "\n",
              "  <svg xmlns=\"http://www.w3.org/2000/svg\" height=\"24px\"viewBox=\"0 0 24 24\"\n",
              "       width=\"24px\">\n",
              "    <path d=\"M7,19H8.4L18.45,9,17,7.55,7,17.6ZM5,21V16.75L18.45,3.32a2,2,0,0,1,2.83,0l1.4,1.43a1.91,1.91,0,0,1,.58,1.4,1.91,1.91,0,0,1-.58,1.4L9.25,21ZM18.45,9,17,7.55Zm-12,3A5.31,5.31,0,0,0,4.9,8.1,5.31,5.31,0,0,0,1,6.5,5.31,5.31,0,0,0,4.9,4.9,5.31,5.31,0,0,0,6.5,1,5.31,5.31,0,0,0,8.1,4.9,5.31,5.31,0,0,0,12,6.5,5.46,5.46,0,0,0,6.5,12Z\"/>\n",
              "  </svg>\n",
              "    </button>\n",
              "    <script>\n",
              "      (() => {\n",
              "      const buttonEl =\n",
              "        document.querySelector('#id_3972b3b9-ca6c-4811-a52a-2afc55a7f95e button.colab-df-generate');\n",
              "      buttonEl.style.display =\n",
              "        google.colab.kernel.accessAllowed ? 'block' : 'none';\n",
              "\n",
              "      buttonEl.onclick = () => {\n",
              "        google.colab.notebook.generateWithVariable('df');\n",
              "      }\n",
              "      })();\n",
              "    </script>\n",
              "  </div>\n",
              "\n",
              "    </div>\n",
              "  </div>\n"
            ],
            "application/vnd.google.colaboratory.intrinsic+json": {
              "type": "dataframe",
              "variable_name": "df"
            }
          },
          "metadata": {},
          "execution_count": 45
        }
      ]
    },
    {
      "cell_type": "code",
      "source": [
        "print(\"Information about the dataset:\")\n",
        "print(df.info())"
      ],
      "metadata": {
        "colab": {
          "base_uri": "https://localhost:8080/"
        },
        "id": "Ozv2HegOtpKT",
        "outputId": "9db75d68-7c7a-44cb-efab-d8860d89731c"
      },
      "execution_count": null,
      "outputs": [
        {
          "output_type": "stream",
          "name": "stdout",
          "text": [
            "Information about the dataset:\n",
            "<class 'pandas.core.frame.DataFrame'>\n",
            "RangeIndex: 1567 entries, 0 to 1566\n",
            "Columns: 476 entries, Time to Pass/Fail\n",
            "dtypes: float64(474), int64(1), object(1)\n",
            "memory usage: 5.7+ MB\n",
            "None\n"
          ]
        }
      ]
    },
    {
      "cell_type": "code",
      "source": [
        "print(\"summary statistics of the dataset:\", df.describe())"
      ],
      "metadata": {
        "colab": {
          "base_uri": "https://localhost:8080/"
        },
        "id": "qgCGJo6rt2N1",
        "outputId": "cb829be1-f979-448b-abef-75c5f5db2366"
      },
      "execution_count": null,
      "outputs": [
        {
          "output_type": "stream",
          "name": "stdout",
          "text": [
            "summary statistics of the dataset:                  0            1            2            3            4  \\\n",
            "count  1561.000000  1560.000000  1553.000000  1553.000000  1553.000000   \n",
            "mean   3014.452896  2495.850231  2200.547318  1396.376627     4.197013   \n",
            "std      73.621787    80.407705    29.513152   441.691640    56.355540   \n",
            "min    2743.240000  2158.750000  2060.660000     0.000000     0.681500   \n",
            "25%    2966.260000  2452.247500  2181.044400  1081.875800     1.017700   \n",
            "50%    3011.490000  2499.405000  2201.066700  1285.214400     1.316800   \n",
            "75%    3056.650000  2538.822500  2218.055500  1591.223500     1.525700   \n",
            "max    3356.350000  2846.440000  2315.266700  3715.041700  1114.536600   \n",
            "\n",
            "                 6            7            8            9           10  ...  \\\n",
            "count  1553.000000  1558.000000  1565.000000  1565.000000  1565.000000  ...   \n",
            "mean    101.112908     0.121822     1.462862    -0.000841     0.000146  ...   \n",
            "std       6.237214     0.008961     0.073897     0.015116     0.009302  ...   \n",
            "min      82.131100     0.000000     1.191000    -0.053400    -0.034900  ...   \n",
            "25%      97.920000     0.121100     1.411200    -0.010800    -0.005600  ...   \n",
            "50%     101.512200     0.122400     1.461600    -0.001300     0.000400  ...   \n",
            "75%     104.586700     0.123800     1.516900     0.008400     0.005900  ...   \n",
            "max     129.252200     0.128600     1.656400     0.074900     0.053000  ...   \n",
            "\n",
            "              581          582          583          584          585  \\\n",
            "count  618.000000  1566.000000  1566.000000  1566.000000  1566.000000   \n",
            "mean    97.934373     0.500096     0.015318     0.003847     3.067826   \n",
            "std     87.520966     0.003404     0.017180     0.003720     3.578033   \n",
            "min      0.000000     0.477800     0.006000     0.001700     1.197500   \n",
            "25%     46.184900     0.497900     0.011600     0.003100     2.306500   \n",
            "50%     72.288900     0.500200     0.013800     0.003600     2.757650   \n",
            "75%    116.539150     0.502375     0.016500     0.004100     3.295175   \n",
            "max    737.304800     0.509800     0.476600     0.104500    99.303200   \n",
            "\n",
            "               586          587          588          589    Pass/Fail  \n",
            "count  1566.000000  1566.000000  1566.000000  1566.000000  1567.000000  \n",
            "mean      0.021458     0.016475     0.005283    99.670066    -0.867262  \n",
            "std       0.012358     0.008808     0.002867    93.891919     0.498010  \n",
            "min      -0.016900     0.003200     0.001000     0.000000    -1.000000  \n",
            "25%       0.013425     0.010600     0.003300    44.368600    -1.000000  \n",
            "50%       0.020500     0.014800     0.004600    71.900500    -1.000000  \n",
            "75%       0.027600     0.020300     0.006400   114.749700    -1.000000  \n",
            "max       0.102800     0.079900     0.028600   737.304800     1.000000  \n",
            "\n",
            "[8 rows x 475 columns]\n"
          ]
        }
      ]
    },
    {
      "cell_type": "markdown",
      "source": [
        "**Target Value Distribution**"
      ],
      "metadata": {
        "id": "eujsrMaupqAI"
      }
    },
    {
      "cell_type": "code",
      "source": [
        "print(\"distribution of target values: \")\n",
        "print( df['Pass/Fail'].value_counts())"
      ],
      "metadata": {
        "colab": {
          "base_uri": "https://localhost:8080/"
        },
        "id": "UwvmL2C0t-O9",
        "outputId": "8a0a47a5-de38-4d27-d6dc-5a4924aae1e4"
      },
      "execution_count": null,
      "outputs": [
        {
          "output_type": "stream",
          "name": "stdout",
          "text": [
            "distribution of target values: \n",
            "Pass/Fail\n",
            "-1    1463\n",
            " 1     104\n",
            "Name: count, dtype: int64\n"
          ]
        }
      ]
    },
    {
      "cell_type": "markdown",
      "source": [
        "**Missing Values**"
      ],
      "metadata": {
        "id": "l7BNkZW2p2HI"
      }
    },
    {
      "cell_type": "code",
      "source": [
        "missing_values = df.isnull().sum()\n",
        "missing_percentage = (missing_values / len(df)) * 100\n",
        "missing_df = pd.DataFrame({'Missing Values': missing_values, 'Missing Percentage': missing_percentage},index=df.columns).sort_values(by='Missing Percentage', ascending=False)\n",
        "print(\"top 10 columns with missing values\",missing_df.head(10))"
      ],
      "metadata": {
        "colab": {
          "base_uri": "https://localhost:8080/"
        },
        "id": "vkmJkH1UuL00",
        "outputId": "65bfca80-2648-474c-fb67-99d8c24d5c50"
      },
      "execution_count": null,
      "outputs": [
        {
          "output_type": "stream",
          "name": "stdout",
          "text": [
            "top 10 columns with missing values      Missing Values  Missing Percentage\n",
            "157            1429           91.193363\n",
            "293            1429           91.193363\n",
            "292            1429           91.193363\n",
            "158            1429           91.193363\n",
            "492            1341           85.577537\n",
            "220            1341           85.577537\n",
            "85             1341           85.577537\n",
            "358            1341           85.577537\n",
            "382            1018           64.964901\n",
            "109            1018           64.964901\n"
          ]
        }
      ]
    },
    {
      "cell_type": "markdown",
      "source": [
        "**Data Cleaning**"
      ],
      "metadata": {
        "id": "qcmzUyLJ1-nn"
      }
    },
    {
      "cell_type": "code",
      "source": [
        "df.drop(columns=[\"Time\"], inplace=True)"
      ],
      "metadata": {
        "id": "EiSI5JzKukXH"
      },
      "execution_count": null,
      "outputs": []
    },
    {
      "cell_type": "code",
      "source": [
        "# Drop columns with more than 50% missing values\n",
        "df = df.loc[:, df.isnull().mean() < 0.5]\n",
        "\n",
        "# Fill remaining missing values with mean\n",
        "df.fillna(df.mean(), inplace=True)\n",
        "\n",
        "# Identify and encode target column\n",
        "target_col = df.columns[-1]\n",
        "df[target_col] = df[target_col].map({-1: 0, 1: 1})  # 0 = Pass, 1 = Fail\n",
        "print(\"\\nTarget distribution:\\n\", df[target_col].value_counts())"
      ],
      "metadata": {
        "colab": {
          "base_uri": "https://localhost:8080/"
        },
        "id": "MnCczK3n1WZ_",
        "outputId": "26b003fb-fef1-4bf7-9713-0a03997bab7f"
      },
      "execution_count": null,
      "outputs": [
        {
          "output_type": "stream",
          "name": "stdout",
          "text": [
            "\n",
            "Target distribution:\n",
            " Pass/Fail\n",
            "0    1463\n",
            "1     104\n",
            "Name: count, dtype: int64\n"
          ]
        },
        {
          "output_type": "stream",
          "name": "stderr",
          "text": [
            "<ipython-input-51-bba2b638cd8f>:5: SettingWithCopyWarning: \n",
            "A value is trying to be set on a copy of a slice from a DataFrame\n",
            "\n",
            "See the caveats in the documentation: https://pandas.pydata.org/pandas-docs/stable/user_guide/indexing.html#returning-a-view-versus-a-copy\n",
            "  df.fillna(df.mean(), inplace=True)\n",
            "<ipython-input-51-bba2b638cd8f>:9: SettingWithCopyWarning: \n",
            "A value is trying to be set on a copy of a slice from a DataFrame.\n",
            "Try using .loc[row_indexer,col_indexer] = value instead\n",
            "\n",
            "See the caveats in the documentation: https://pandas.pydata.org/pandas-docs/stable/user_guide/indexing.html#returning-a-view-versus-a-copy\n",
            "  df[target_col] = df[target_col].map({-1: 0, 1: 1})  # 0 = Pass, 1 = Fail\n"
          ]
        }
      ]
    },
    {
      "cell_type": "code",
      "source": [
        "df.shape"
      ],
      "metadata": {
        "colab": {
          "base_uri": "https://localhost:8080/"
        },
        "id": "7JcZ3A3V1Xrp",
        "outputId": "504f8aae-7cff-4c76-d6ed-fadf7a4593a9"
      },
      "execution_count": null,
      "outputs": [
        {
          "output_type": "execute_result",
          "data": {
            "text/plain": [
              "(1567, 447)"
            ]
          },
          "metadata": {},
          "execution_count": 52
        }
      ]
    },
    {
      "cell_type": "markdown",
      "source": [
        "**Filling missing values**"
      ],
      "metadata": {
        "id": "aQzbW4bcAUBW"
      }
    },
    {
      "cell_type": "code",
      "source": [
        "df.fillna(df.mean(numeric_only=True), inplace=True)"
      ],
      "metadata": {
        "id": "0-wSgvIT1bx_",
        "colab": {
          "base_uri": "https://localhost:8080/"
        },
        "outputId": "cc86354e-3773-4f55-e48d-127e03100872"
      },
      "execution_count": null,
      "outputs": [
        {
          "output_type": "stream",
          "name": "stderr",
          "text": [
            "<ipython-input-53-41ad60c38a98>:1: SettingWithCopyWarning: \n",
            "A value is trying to be set on a copy of a slice from a DataFrame\n",
            "\n",
            "See the caveats in the documentation: https://pandas.pydata.org/pandas-docs/stable/user_guide/indexing.html#returning-a-view-versus-a-copy\n",
            "  df.fillna(df.mean(numeric_only=True), inplace=True)\n"
          ]
        }
      ]
    },
    {
      "cell_type": "code",
      "source": [
        "print(\"Number of missing values:\", df.isnull().sum().sum())"
      ],
      "metadata": {
        "colab": {
          "base_uri": "https://localhost:8080/"
        },
        "id": "QqzxSbLE3kce",
        "outputId": "01095143-3acc-4dd6-8010-74954448eae1"
      },
      "execution_count": null,
      "outputs": [
        {
          "output_type": "stream",
          "name": "stdout",
          "text": [
            "Number of missing values: 0\n"
          ]
        }
      ]
    },
    {
      "cell_type": "code",
      "source": [
        "print(\"Target distribution after changes:\", df['Pass/Fail'].value_counts())"
      ],
      "metadata": {
        "colab": {
          "base_uri": "https://localhost:8080/"
        },
        "id": "r9mej7Eb30FE",
        "outputId": "26e1c93e-84db-47e8-abb1-ca31edf58160"
      },
      "execution_count": null,
      "outputs": [
        {
          "output_type": "stream",
          "name": "stdout",
          "text": [
            "Target distribution after changes: Pass/Fail\n",
            "0    1463\n",
            "1     104\n",
            "Name: count, dtype: int64\n"
          ]
        }
      ]
    },
    {
      "cell_type": "markdown",
      "source": [
        "# Data Visualization"
      ],
      "metadata": {
        "id": "djyY1OKa4IH0"
      }
    },
    {
      "cell_type": "markdown",
      "source": [
        "**Univariate**"
      ],
      "metadata": {
        "id": "vWiJfTUkqMoR"
      }
    },
    {
      "cell_type": "code",
      "source": [
        "sns.countplot(x=df['Pass/Fail'], palette=['pink','blue'])\n",
        "plt.title(\"Target Class Distribution\")\n",
        "plt.xlabel(\"Class (-1 = Pass, 1 = Fail)\")\n",
        "plt.ylabel(\"Count\")\n",
        "\n",
        "# default axes\n",
        "ax = plt.gca()\n",
        "\n",
        "# locations are -1 & 1\n",
        "ax.set_xticks([-1, 1])\n",
        "\n",
        "# ticklabels\n",
        "plt.gca().set_xticklabels(['Pass', 'Fail'])\n",
        "\n",
        "labels = ['-1 Pass', '1 Fail']\n",
        "plt.legend(labels, title='Pass/Fail')\n",
        "\n",
        "plt.show()"
      ],
      "metadata": {
        "colab": {
          "base_uri": "https://localhost:8080/",
          "height": 579
        },
        "id": "VIXRc6Rzw6ly",
        "outputId": "92643366-e1d9-41ba-dcc7-881a8f104424"
      },
      "execution_count": null,
      "outputs": [
        {
          "output_type": "stream",
          "name": "stderr",
          "text": [
            "<ipython-input-56-74aa10b6c274>:1: FutureWarning: \n",
            "\n",
            "Passing `palette` without assigning `hue` is deprecated and will be removed in v0.14.0. Assign the `x` variable to `hue` and set `legend=False` for the same effect.\n",
            "\n",
            "  sns.countplot(x=df['Pass/Fail'], palette=['pink','blue'])\n"
          ]
        },
        {
          "output_type": "display_data",
          "data": {
            "text/plain": [
              "<Figure size 640x480 with 1 Axes>"
            ],
            "image/png": "[encoded data removed]"
          },
          "metadata": {}
        }
      ]
    },
    {
      "cell_type": "code",
      "source": [
        "# Calculate the correlation matrix\n",
        "correlation_matrix = df.corr()\n",
        "\n",
        "# Get the correlations with the target variable 'Pass/Fail'\n",
        "target_correlation = correlation_matrix['Pass/Fail'].sort_values(ascending=False)\n",
        "\n",
        "# Drop the correlation of 'Pass/Fail'\n",
        "target_correlation = target_correlation.drop('Pass/Fail')\n",
        "\n",
        "# USING HIGHEST ABSOLUTE to get proper 20 features\n",
        "top_10_features = target_correlation.abs().nlargest(15).index\n",
        "\n",
        "# filtering to get only top20 vLUES\n",
        "top_10_corr_matrix = correlation_matrix.loc[top_10_features, ['Pass/Fail']]\n",
        "\n",
        "# 10 features\n",
        "print(\"\\nTop 10 features with the highest correlation to 'Pass/Fail':\")\n",
        "print(top_10_corr_matrix)\n",
        "\n",
        "# plotting a heatmap to get better visuals\n",
        "plt.figure(figsize=(8, 10))\n",
        "sns.heatmap(top_10_corr_matrix, annot=True, cmap='coolwarm', fmt=\".2f\")\n",
        "plt.title('Correlation of Top 10 Features with Pass/Fail', fontweight='bold')\n",
        "plt.show()"
      ],
      "metadata": {
        "colab": {
          "base_uri": "https://localhost:8080/",
          "height": 1000
        },
        "id": "JVvAMxdMEcY9",
        "outputId": "96b57289-0a9a-4349-b181-99cf970976ce"
      },
      "execution_count": null,
      "outputs": [
        {
          "output_type": "stream",
          "name": "stdout",
          "text": [
            "\n",
            "Top 10 features with the highest correlation to 'Pass/Fail':\n",
            "     Pass/Fail\n",
            "59    0.155771\n",
            "103   0.151196\n",
            "510   0.131587\n",
            "348   0.130108\n",
            "431   0.120304\n",
            "434   0.111609\n",
            "430   0.109569\n",
            "435   0.108573\n",
            "21    0.107997\n",
            "28   -0.106767\n",
            "436   0.106426\n",
            "129   0.103351\n",
            "210   0.102488\n",
            "298   0.102055\n",
            "163   0.099876\n"
          ]
        },
        {
          "output_type": "display_data",
          "data": {
            "text/plain": [
              "<Figure size 800x1000 with 2 Axes>"
            ],
            "image/png": "[encoded data removed]"
          },
          "metadata": {}
        }
      ]
    },
    {
      "cell_type": "markdown",
      "source": [
        "* **Features 59, 103, 510, 348, and 431 have the strongest positive connections with the 'Pass/Fail' outcome, meaning that higher values in these features are generally linked to passing (or failing, depending on how the target is defined). On the other hand, features 28 and 316 show negative correlations, suggesting that higher values in these are associated with the opposite result.**\n",
        "\n",
        "* **While these correlations are relatively small (the highest is about 0.156), these features still play an important role and are worth focusing on for feature engineering and building better models. Even small correlations can add valuable information when combined with other features**"
      ],
      "metadata": {
        "id": "-FfUWyNkxif4"
      }
    },
    {
      "cell_type": "markdown",
      "source": [
        "Creating test and train data"
      ],
      "metadata": {
        "id": "NvScsGDzF_JM"
      }
    },
    {
      "cell_type": "code",
      "source": [
        "# Separating features (X) and target variable (y)\n",
        "X=df.drop(columns=\"Pass/Fail\")\n",
        "y=df[\"Pass/Fail\"]\n",
        "print(X)\n",
        "print(y)"
      ],
      "metadata": {
        "colab": {
          "base_uri": "https://localhost:8080/"
        },
        "id": "9tQiKg7lEg7P",
        "outputId": "7dde4ff4-7597-4506-a155-4950dc38660f"
      },
      "execution_count": null,
      "outputs": [
        {
          "output_type": "stream",
          "name": "stdout",
          "text": [
            "            0        1          2          3       4         6       7  \\\n",
            "0     3030.93  2564.00  2187.7333  1411.1265  1.3602   97.6133  0.1242   \n",
            "1     3095.78  2465.14  2230.4222  1463.6606  0.8294  102.3433  0.1247   \n",
            "2     2932.61  2559.94  2186.4111  1698.0172  1.5102   95.4878  0.1241   \n",
            "3     2988.72  2479.90  2199.0333   909.7926  1.3204  104.2367  0.1217   \n",
            "4     3032.24  2502.87  2233.3667  1326.5200  1.5334  100.3967  0.1235   \n",
            "...       ...      ...        ...        ...     ...       ...     ...   \n",
            "1562  2899.41  2464.36  2179.7333  3085.3781  1.4843   82.2467  0.1248   \n",
            "1563  3052.31  2522.55  2198.5667  1124.6595  0.8763   98.4689  0.1205   \n",
            "1564  2978.81  2379.78  2206.3000  1110.4967  0.8236   99.4122  0.1208   \n",
            "1565  2894.92  2532.01  2177.0333  1183.7287  1.5726   98.7978  0.1213   \n",
            "1566  2944.92  2450.76  2195.4444  2914.1792  1.5978   85.1011  0.1235   \n",
            "\n",
            "             8         9        10  ...     576      577     582     583  \\\n",
            "0     1.500500  0.016200 -0.003400  ...  1.6765  14.9509  0.5005  0.0118   \n",
            "1     1.496600 -0.000500 -0.014800  ...  1.1065  10.9003  0.5019  0.0223   \n",
            "2     1.443600  0.004100  0.001300  ...  2.0952   9.2721  0.4958  0.0157   \n",
            "3     1.488200 -0.012400 -0.003300  ...  1.7585   8.5831  0.4990  0.0103   \n",
            "4     1.503100 -0.003100 -0.007200  ...  1.6597  10.9698  0.4800  0.4766   \n",
            "...        ...       ...       ...  ...     ...      ...     ...     ...   \n",
            "1562  1.342400 -0.004500 -0.005700  ...  1.4879  11.7256  0.4988  0.0143   \n",
            "1563  1.433300 -0.006100 -0.009300  ...  1.0187  17.8379  0.4975  0.0131   \n",
            "1564  1.462862 -0.000841  0.000146  ...  1.2237  17.7267  0.4987  0.0153   \n",
            "1565  1.462200 -0.007200  0.003200  ...  1.7085  19.2104  0.5004  0.0178   \n",
            "1566  1.462862 -0.000841  0.000146  ...  1.2878  22.9183  0.4987  0.0181   \n",
            "\n",
            "         584      585       586       587       588         589  \n",
            "0     0.0035   2.3630  0.021458  0.016475  0.005283   99.670066  \n",
            "1     0.0055   4.4447  0.009600  0.020100  0.006000  208.204500  \n",
            "2     0.0039   3.1745  0.058400  0.048400  0.014800   82.860200  \n",
            "3     0.0025   2.0544  0.020200  0.014900  0.004400   73.843200  \n",
            "4     0.1045  99.3032  0.020200  0.014900  0.004400   73.843200  \n",
            "...      ...      ...       ...       ...       ...         ...  \n",
            "1562  0.0039   2.8669  0.006800  0.013800  0.004700  203.172000  \n",
            "1563  0.0036   2.6238  0.006800  0.013800  0.004700  203.172000  \n",
            "1564  0.0041   3.0590  0.019700  0.008600  0.002500   43.523100  \n",
            "1565  0.0038   3.5662  0.026200  0.024500  0.007500   93.494100  \n",
            "1566  0.0040   3.6275  0.011700  0.016200  0.004500  137.784400  \n",
            "\n",
            "[1567 rows x 446 columns]\n",
            "0       0\n",
            "1       0\n",
            "2       1\n",
            "3       0\n",
            "4       0\n",
            "       ..\n",
            "1562    0\n",
            "1563    0\n",
            "1564    0\n",
            "1565    0\n",
            "1566    0\n",
            "Name: Pass/Fail, Length: 1567, dtype: int64\n"
          ]
        }
      ]
    },
    {
      "cell_type": "code",
      "source": [
        "# Target Distribution before SMOTE\n",
        "print(\"Target Distribution before SMOTE:\")\n",
        "print(y.value_counts())\n"
      ],
      "metadata": {
        "colab": {
          "base_uri": "https://localhost:8080/"
        },
        "id": "WjJBsEGGGZ7l",
        "outputId": "9c62b126-2ad6-46a9-9e71-50f28c617943"
      },
      "execution_count": null,
      "outputs": [
        {
          "output_type": "stream",
          "name": "stdout",
          "text": [
            "Target Distribution before SMOTE:\n",
            "Pass/Fail\n",
            "0    1463\n",
            "1     104\n",
            "Name: count, dtype: int64\n"
          ]
        }
      ]
    },
    {
      "cell_type": "code",
      "source": [
        "# Applying SMOTE to generate synthetic samples for the minority class in training data\n",
        "from imblearn.over_sampling import SMOTE\n",
        "\n",
        "smote = SMOTE(random_state=42)\n",
        "X_balanced, y_balanced = smote.fit_resample(X, y)"
      ],
      "metadata": {
        "id": "6YTw2LUBGeFa"
      },
      "execution_count": null,
      "outputs": []
    },
    {
      "cell_type": "code",
      "source": [
        "print(\"\\nTarget Distribution after SMOTE:\")\n",
        "print(y_balanced.value_counts())"
      ],
      "metadata": {
        "colab": {
          "base_uri": "https://localhost:8080/"
        },
        "id": "2CeFPmi6Gg5Q",
        "outputId": "9d571373-a944-4a84-cd69-73aada28102e"
      },
      "execution_count": null,
      "outputs": [
        {
          "output_type": "stream",
          "name": "stdout",
          "text": [
            "\n",
            "Target Distribution after SMOTE:\n",
            "Pass/Fail\n",
            "0    1463\n",
            "1    1463\n",
            "Name: count, dtype: int64\n"
          ]
        }
      ]
    },
    {
      "cell_type": "code",
      "source": [
        "#  Split the data into training and testing sets\n",
        "\n",
        "# Using stratify=y to maintain the same class distribution in both sets\n",
        "\n",
        "X_train,X_test,y_train,y_test=train_test_split(X_balanced,y_balanced,test_size=0.2,random_state=42, stratify = y_balanced)\n"
      ],
      "metadata": {
        "id": "iVl-IyH4Gj21"
      },
      "execution_count": null,
      "outputs": []
    },
    {
      "cell_type": "code",
      "source": [
        "y_train[0:5]"
      ],
      "metadata": {
        "colab": {
          "base_uri": "https://localhost:8080/",
          "height": 241
        },
        "id": "-XIZVE1dGnX5",
        "outputId": "a3060c13-07d5-43ab-bdd8-408540284c47"
      },
      "execution_count": null,
      "outputs": [
        {
          "output_type": "execute_result",
          "data": {
            "text/plain": [
              "752     0\n",
              "1165    0\n",
              "590     0\n",
              "797     1\n",
              "624     0\n",
              "Name: Pass/Fail, dtype: int64"
            ],
            "text/html": [
              "<div>\n",
              "<style scoped>\n",
              "    .dataframe tbody tr th:only-of-type {\n",
              "        vertical-align: middle;\n",
              "    }\n",
              "\n",
              "    .dataframe tbody tr th {\n",
              "        vertical-align: top;\n",
              "    }\n",
              "\n",
              "    .dataframe thead th {\n",
              "        text-align: right;\n",
              "    }\n",
              "</style>\n",
              "<table border=\"1\" class=\"dataframe\">\n",
              "  <thead>\n",
              "    <tr style=\"text-align: right;\">\n",
              "      <th></th>\n",
              "      <th>Pass/Fail</th>\n",
              "    </tr>\n",
              "  </thead>\n",
              "  <tbody>\n",
              "    <tr>\n",
              "      <th>752</th>\n",
              "      <td>0</td>\n",
              "    </tr>\n",
              "    <tr>\n",
              "      <th>1165</th>\n",
              "      <td>0</td>\n",
              "    </tr>\n",
              "    <tr>\n",
              "      <th>590</th>\n",
              "      <td>0</td>\n",
              "    </tr>\n",
              "    <tr>\n",
              "      <th>797</th>\n",
              "      <td>1</td>\n",
              "    </tr>\n",
              "    <tr>\n",
              "      <th>624</th>\n",
              "      <td>0</td>\n",
              "    </tr>\n",
              "  </tbody>\n",
              "</table>\n",
              "</div><br><label><b>dtype:</b> int64</label>"
            ]
          },
          "metadata": {},
          "execution_count": 63
        }
      ]
    },
    {
      "cell_type": "code",
      "source": [
        "from sklearn.preprocessing import StandardScaler\n",
        "\n",
        "scaler=StandardScaler() #Scaling the dataset so all features remains on same scale\n",
        "\n",
        "X_train_scaled = scaler.fit_transform(X_train)\n",
        "X_test_scaled = scaler.transform(X_test)\n",
        "print(X_train_scaled)\n",
        "print(X_test_scaled)"
      ],
      "metadata": {
        "colab": {
          "base_uri": "https://localhost:8080/"
        },
        "id": "0sk7bJxLGxEI",
        "outputId": "f0614c51-be8f-4fd5-e93e-f27f8da7e977"
      },
      "execution_count": null,
      "outputs": [
        {
          "output_type": "stream",
          "name": "stdout",
          "text": [
            "[[-0.78674205 -0.29788461  1.93384845 ... -1.45790687 -1.46363401\n",
            "  -0.6589037 ]\n",
            " [ 0.81733952  0.62335977 -0.91505308 ...  0.45337231  1.26303774\n",
            "  -0.26573775]\n",
            " [-1.64476864  1.1152286  -1.51182181 ...  0.22851594  0.21132149\n",
            "  -0.30740766]\n",
            " ...\n",
            " [ 0.09818591 -0.78025899  0.90745274 ... -0.7583537  -0.68458494\n",
            "  -0.27979245]\n",
            " [ 0.06832681 -0.40785009  0.65570196 ...  0.01615158 -0.02239323\n",
            "   0.9756684 ]\n",
            " [ 0.61283285  1.15292295  0.26156554 ... -0.28365691 -0.02239323\n",
            "  -0.22865791]]\n",
            "[[-0.0710979   2.94422872 -0.97134475 ... -0.0528408   0.17085582\n",
            "   2.20995228]\n",
            " [ 0.38179922 -2.21156123  2.88315856 ... -1.39097808 -1.30975186\n",
            "  -0.62470921]\n",
            " [-0.15195448  0.07664991  1.31107932 ... -1.24554251 -1.22991929\n",
            "  -0.84911638]\n",
            " ...\n",
            " [ 2.88747657  0.37962183  0.01765945 ...  1.14043345  1.34094264\n",
            "   1.5550223 ]\n",
            " [ 0.48212062  1.72089842 -0.72422601 ...  3.57672242  2.63624437\n",
            "   0.76646854]\n",
            " [-1.12307946  0.42185085 -0.00379831 ... -0.28365691 -0.02239323\n",
            "  -0.22865791]]\n"
          ]
        }
      ]
    },
    {
      "cell_type": "code",
      "source": [
        "# Dimensionality Reduction (optional but useful)\n",
        "pca = PCA(n_components=0.95)\n",
        "X_train_pca = pca.fit_transform(X_train_scaled)\n",
        "X_test_pca = pca.transform(X_test_scaled)\n"
      ],
      "metadata": {
        "id": "93-xqL1ZUcXA"
      },
      "execution_count": null,
      "outputs": []
    },
    {
      "cell_type": "markdown",
      "source": [
        "Building model"
      ],
      "metadata": {
        "id": "My_KXGvWG87E"
      }
    },
    {
      "cell_type": "code",
      "source": [
        "# Model Training & Evaluation\n",
        "models = {\n",
        "    \"RandomForest\": RandomForestClassifier(random_state=42),\n",
        "    \"SVM\": SVC(random_state=42),\n",
        "    \"NaiveBayes\": GaussianNB()\n",
        "}\n",
        "\n",
        "best_model = None\n",
        "best_score = 0\n",
        "\n",
        "for name, model in models.items():\n",
        "    print(f\"\\nTraining {name}...\")\n",
        "    scores = cross_val_score(model, X_train_pca, y_train, cv=5)\n",
        "    print(f\"Cross-validation Accuracy: {scores.mean():.4f}\")\n",
        "\n",
        "    # GridSearch for RandomForest and SVM\n",
        "    if name == \"RandomForest\":\n",
        "        params = {\"n_estimators\": [100, 200], \"max_depth\": [10, 20, None]}\n",
        "    elif name == \"SVM\":\n",
        "        params = {\"C\": [0.1, 1, 10], \"kernel\": [\"linear\", \"rbf\"]}\n",
        "    else:\n",
        "        params = None\n",
        "\n",
        "    if params:\n",
        "        grid = GridSearchCV(model, params, cv=5)\n",
        "        grid.fit(X_train_pca, y_train)\n",
        "        model = grid.best_estimator_\n",
        "        print(\"Best Params:\", grid.best_params_)\n",
        "    else:\n",
        "        model.fit(X_train_pca, y_train)\n",
        "\n",
        "    y_pred = model.predict(X_test_pca)\n",
        "    print(classification_report(y_test, y_pred))\n",
        "\n",
        "    acc = model.score(X_test_pca, y_test)\n",
        "    if acc > best_score:\n",
        "        best_score = acc\n",
        "        best_model = model"
      ],
      "metadata": {
        "id": "8hBGYUzQQv_R",
        "colab": {
          "base_uri": "https://localhost:8080/"
        },
        "outputId": "3e97c2a7-b550-4099-b443-8dee0e0e0157"
      },
      "execution_count": null,
      "outputs": [
        {
          "output_type": "stream",
          "name": "stdout",
          "text": [
            "\n",
            "Training RandomForest...\n",
            "Cross-validation Accuracy: 0.9906\n",
            "Best Params: {'max_depth': 20, 'n_estimators': 100}\n",
            "              precision    recall  f1-score   support\n",
            "\n",
            "           0       0.99      1.00      0.99       293\n",
            "           1       1.00      0.99      0.99       293\n",
            "\n",
            "    accuracy                           0.99       586\n",
            "   macro avg       0.99      0.99      0.99       586\n",
            "weighted avg       0.99      0.99      0.99       586\n",
            "\n",
            "\n",
            "Training SVM...\n",
            "Cross-validation Accuracy: 0.9829\n",
            "Best Params: {'C': 10, 'kernel': 'rbf'}\n",
            "              precision    recall  f1-score   support\n",
            "\n",
            "           0       1.00      0.98      0.99       293\n",
            "           1       0.98      1.00      0.99       293\n",
            "\n",
            "    accuracy                           0.99       586\n",
            "   macro avg       0.99      0.99      0.99       586\n",
            "weighted avg       0.99      0.99      0.99       586\n",
            "\n",
            "\n",
            "Training NaiveBayes...\n",
            "Cross-validation Accuracy: 0.9534\n",
            "              precision    recall  f1-score   support\n",
            "\n",
            "           0       0.87      0.99      0.93       293\n",
            "           1       0.98      0.86      0.92       293\n",
            "\n",
            "    accuracy                           0.92       586\n",
            "   macro avg       0.93      0.92      0.92       586\n",
            "weighted avg       0.93      0.92      0.92       586\n",
            "\n"
          ]
        }
      ]
    },
    {
      "cell_type": "markdown",
      "source": [
        "*Best Model: RandomForest*\n",
        "\n",
        "*Accuracy: 0.9906*"
      ],
      "metadata": {
        "id": "VlLYzJHz5TeU"
      }
    },
    {
      "cell_type": "code",
      "source": [],
      "metadata": {
        "id": "6eH5vTaPXT8j"
      },
      "execution_count": null,
      "outputs": []
    }
  ]
}